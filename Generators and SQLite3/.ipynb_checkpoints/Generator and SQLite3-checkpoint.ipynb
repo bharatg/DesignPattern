{
 "cells": [
  {
   "cell_type": "code",
   "execution_count": 1,
   "metadata": {},
   "outputs": [
    {
     "name": "stdout",
     "output_type": "stream",
     "text": [
      "418\n"
     ]
    }
   ],
   "source": [
    "#fibbonacci SQL execution\n",
    "\n",
    "#1,1,2,3,5,8,13,21\n",
    "#return the list of fibi numbers\n",
    "\n",
    "def fibi(a,b):\n",
    "    #i=1\n",
    "    while(True):\n",
    "        a,b=b,a+b\n",
    "       # print(b)\n",
    "        yield b\n",
    "        #print(\"what \", i)\n",
    "        #i=i+1\n",
    " \n",
    "if (__name__==\"__main__\") :\n",
    "    resultL=[1,1]\n",
    "    for x in fibi(1,1):\n",
    "        fibi(1,1)\n",
    "        fibi(resultL[-1],resultL[-2])\n",
    "        #print(x)\n",
    "        resultL.append(x)\n",
    "        \n",
    "        if len(resultL)==2000:\n",
    "            break\n",
    "print(len(str(resultL[-1])))"
   ]
  },
  {
   "cell_type": "code",
   "execution_count": 2,
   "metadata": {},
   "outputs": [
    {
     "name": "stdout",
     "output_type": "stream",
     "text": [
      "This is printed first\n",
      "This is printed first\n",
      "This is printed first\n",
      "This is printed first\n",
      "<generator object my_gen at 0x0000021A5832FDB0>\n",
      "This is printed first\n",
      "This is printed second\n"
     ]
    },
    {
     "data": {
      "text/plain": [
       "2"
      ]
     },
     "execution_count": 2,
     "metadata": {},
     "output_type": "execute_result"
    }
   ],
   "source": [
    "def my_gen():\n",
    "    n = 1\n",
    "    print('This is printed first')\n",
    "    # Generator function contains yield statements\n",
    "    yield n\n",
    "\n",
    "    n += 1\n",
    "    print('This is printed second')\n",
    "    yield n\n",
    "\n",
    "    n += 1\n",
    "    print('This is printed at last')\n",
    "    yield n\n",
    "    \n",
    "my_gen().__next__()\n",
    "next(my_gen())\n",
    "     \n",
    "next(my_gen())\n",
    "next(my_gen())\n",
    "a =my_gen()\n",
    "print(a)\n",
    "next(a)\n",
    "next(a)\n",
    "#a=my_gen()\n",
    "#for i in my_gen():\n",
    "    #print(i)"
   ]
  },
  {
   "cell_type": "code",
   "execution_count": 3,
   "metadata": {},
   "outputs": [],
   "source": [
    "import sqlite3\n",
    "conn = sqlite3.connect('storeG5555.db')\n",
    "c =conn.cursor()\n",
    "c.execute(\"\"\"CREATE TABLE abcd(\n",
    "                a integer,\n",
    "                b integer,\n",
    "                c integer)\"\"\")\n",
    "conn.commit()"
   ]
  },
  {
   "cell_type": "code",
   "execution_count": 4,
   "metadata": {},
   "outputs": [
    {
     "name": "stdout",
     "output_type": "stream",
     "text": [
      "2\n",
      "3\n",
      "5\n",
      "8\n",
      "13\n",
      "21\n",
      "34\n",
      "55\n",
      "89\n",
      "144\n",
      "233\n",
      "377\n",
      "610\n",
      "987\n",
      "1597\n",
      "2584\n",
      "4181\n",
      "6765\n",
      "10946\n",
      "17711\n",
      "28657\n",
      "46368\n",
      "75025\n",
      "121393\n",
      "196418\n",
      "317811\n",
      "514229\n",
      "832040\n",
      "1346269\n",
      "2178309\n",
      "3524578\n",
      "5702887\n",
      "9227465\n",
      "14930352\n",
      "24157817\n",
      "39088169\n",
      "63245986\n",
      "102334155\n",
      "[1, 1, 2, 3, 5, 8, 13, 21, 34, 55, 89, 144, 233, 377, 610, 987, 1597, 2584, 4181, 6765, 10946, 17711, 28657, 46368, 75025, 121393, 196418, 317811, 514229, 832040, 1346269, 2178309, 3524578, 5702887, 9227465, 14930352, 24157817, 39088169, 63245986, 102334155]\n",
      "40\n"
     ]
    }
   ],
   "source": [
    "#fibbonacci SQL execution\n",
    "\n",
    "#1,1,2,3,5,8,13,21\n",
    "#return the list of fibi numbers\n",
    "def fibi(a,b,n):\n",
    "    c=[1,1]\n",
    "    while(n):\n",
    "        a,b=b,a+b\n",
    "        print(b)\n",
    "       # c.append(n)\n",
    "        return b\n",
    "        #i=i+1\n",
    " \n",
    "if (__name__==\"__main__\") :\n",
    "    resultL=[1,1]\n",
    "    n=10000\n",
    "    for x in range(n):\n",
    "        #fibi(1,1,n)\n",
    "        #print(x)\n",
    "        resultL.append(fibi(resultL[-1],resultL[-2],10000))\n",
    "        \n",
    "        if len(resultL)==40:\n",
    "            break\n",
    "print(resultL)\n",
    "print(len(resultL))"
   ]
  },
  {
   "cell_type": "code",
   "execution_count": 5,
   "metadata": {
    "collapsed": true
   },
   "outputs": [],
   "source": [
    "#Generators __iter__() and __next__()\n",
    "\n"
   ]
  },
  {
   "cell_type": "code",
   "execution_count": 6,
   "metadata": {},
   "outputs": [],
   "source": [
    "#pythogorian triplets\n",
    "\n",
    "def integers():\n",
    "    \"\"\"Infinte sequence of integers\"\"\"\n",
    "    i=1\n",
    "    while(True):\n",
    "        #print(i)\n",
    "        yield i  \n",
    "        i=i+1\n",
    "        \n",
    "\n",
    "\n",
    "def store(x=1,y=1,z=1):\n",
    "    c.execute(\"INSERT INTO abcd VALUES(?,?,?)\",(x,y,z))\n",
    "    \n",
    "    \n",
    "pyt= (store(x,y,z) for z in integers() for y in range(1,z) for x in range(1,y) if x**2+y**2==z**2)\n",
    "\n",
    "a=[]\n",
    "for i in pyt:\n",
    "    a.append(i)\n",
    "    if len(a)==100:\n",
    "        break\n",
    "#print(a) # pyt= ((x,y,z) for z in integers() for y in range(1,z) for x in range(1,y) if x**2+y**2==z**2)"
   ]
  },
  {
   "cell_type": "code",
   "execution_count": null,
   "metadata": {},
   "outputs": [],
   "source": [
    "c.execute(\"\"\"INSERT INTO abcd values(5,6,7)\"\"\")"
   ]
  },
  {
   "cell_type": "code",
   "execution_count": 7,
   "metadata": {},
   "outputs": [
    {
     "data": {
      "text/plain": [
       "<sqlite3.Cursor at 0x21a58335a40>"
      ]
     },
     "execution_count": 7,
     "metadata": {},
     "output_type": "execute_result"
    }
   ],
   "source": [
    "c.execute(\"\"\"SELECT count(*) FROM abcd\"\"\")"
   ]
  },
  {
   "cell_type": "code",
   "execution_count": 8,
   "metadata": {},
   "outputs": [
    {
     "data": {
      "text/plain": [
       "[(100,)]"
      ]
     },
     "execution_count": 8,
     "metadata": {},
     "output_type": "execute_result"
    }
   ],
   "source": [
    "c.fetchall()\n",
    "#c.execute(\"\"\"DROP TABLE abcd\"\"\")\n"
   ]
  },
  {
   "cell_type": "code",
   "execution_count": 9,
   "metadata": {
    "collapsed": true
   },
   "outputs": [],
   "source": [
    "conn.commit()"
   ]
  },
  {
   "cell_type": "code",
   "execution_count": null,
   "metadata": {},
   "outputs": [],
   "source": [
    "c.execute(\"\"\"DROP TABLE abcd\"\"\")"
   ]
  },
  {
   "cell_type": "code",
   "execution_count": 11,
   "metadata": {},
   "outputs": [
    {
     "data": {
      "text/plain": [
       "[(3, 4, 5),\n",
       " (6, 8, 10),\n",
       " (5, 12, 13),\n",
       " (9, 12, 15),\n",
       " (8, 15, 17),\n",
       " (12, 16, 20),\n",
       " (15, 20, 25),\n",
       " (7, 24, 25),\n",
       " (10, 24, 26),\n",
       " (20, 21, 29),\n",
       " (18, 24, 30),\n",
       " (16, 30, 34),\n",
       " (21, 28, 35),\n",
       " (12, 35, 37),\n",
       " (15, 36, 39),\n",
       " (24, 32, 40),\n",
       " (9, 40, 41),\n",
       " (27, 36, 45),\n",
       " (30, 40, 50),\n",
       " (14, 48, 50),\n",
       " (24, 45, 51),\n",
       " (20, 48, 52),\n",
       " (28, 45, 53),\n",
       " (33, 44, 55),\n",
       " (40, 42, 58),\n",
       " (36, 48, 60),\n",
       " (11, 60, 61),\n",
       " (39, 52, 65),\n",
       " (33, 56, 65),\n",
       " (25, 60, 65),\n",
       " (16, 63, 65),\n",
       " (32, 60, 68),\n",
       " (42, 56, 70),\n",
       " (48, 55, 73),\n",
       " (24, 70, 74),\n",
       " (45, 60, 75),\n",
       " (21, 72, 75),\n",
       " (30, 72, 78),\n",
       " (48, 64, 80),\n",
       " (18, 80, 82),\n",
       " (51, 68, 85),\n",
       " (40, 75, 85),\n",
       " (36, 77, 85),\n",
       " (13, 84, 85),\n",
       " (60, 63, 87),\n",
       " (39, 80, 89),\n",
       " (54, 72, 90),\n",
       " (35, 84, 91),\n",
       " (57, 76, 95),\n",
       " (65, 72, 97),\n",
       " (60, 80, 100),\n",
       " (28, 96, 100),\n",
       " (20, 99, 101),\n",
       " (48, 90, 102),\n",
       " (40, 96, 104),\n",
       " (63, 84, 105),\n",
       " (56, 90, 106),\n",
       " (60, 91, 109),\n",
       " (66, 88, 110),\n",
       " (36, 105, 111),\n",
       " (15, 112, 113),\n",
       " (69, 92, 115),\n",
       " (80, 84, 116),\n",
       " (45, 108, 117),\n",
       " (56, 105, 119),\n",
       " (72, 96, 120),\n",
       " (22, 120, 122),\n",
       " (27, 120, 123),\n",
       " (75, 100, 125),\n",
       " (44, 117, 125),\n",
       " (35, 120, 125),\n",
       " (78, 104, 130),\n",
       " (66, 112, 130),\n",
       " (50, 120, 130),\n",
       " (32, 126, 130),\n",
       " (81, 108, 135),\n",
       " (64, 120, 136),\n",
       " (88, 105, 137),\n",
       " (84, 112, 140),\n",
       " (55, 132, 143),\n",
       " (100, 105, 145),\n",
       " (87, 116, 145),\n",
       " (24, 143, 145),\n",
       " (17, 144, 145),\n",
       " (96, 110, 146),\n",
       " (48, 140, 148),\n",
       " (51, 140, 149),\n",
       " (90, 120, 150),\n",
       " (42, 144, 150),\n",
       " (72, 135, 153),\n",
       " (93, 124, 155),\n",
       " (60, 144, 156),\n",
       " (85, 132, 157),\n",
       " (84, 135, 159),\n",
       " (96, 128, 160),\n",
       " (36, 160, 164),\n",
       " (99, 132, 165),\n",
       " (119, 120, 169),\n",
       " (65, 156, 169),\n",
       " (102, 136, 170)]"
      ]
     },
     "execution_count": 11,
     "metadata": {},
     "output_type": "execute_result"
    }
   ],
   "source": [
    "c.execute(\"\"\"SELECT * FROM abcd\"\"\")\n",
    "c.fetchall()"
   ]
  },
  {
   "cell_type": "code",
   "execution_count": null,
   "metadata": {
    "collapsed": true
   },
   "outputs": [],
   "source": []
  }
 ],
 "metadata": {
  "kernelspec": {
   "display_name": "Python 3",
   "language": "python",
   "name": "python3"
  },
  "language_info": {
   "codemirror_mode": {
    "name": "ipython",
    "version": 3
   },
   "file_extension": ".py",
   "mimetype": "text/x-python",
   "name": "python",
   "nbconvert_exporter": "python",
   "pygments_lexer": "ipython3",
   "version": "3.6.3"
  }
 },
 "nbformat": 4,
 "nbformat_minor": 2
}
